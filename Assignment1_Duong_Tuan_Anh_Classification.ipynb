{
  "nbformat": 4,
  "nbformat_minor": 0,
  "metadata": {
    "colab": {
      "name": "Assignment1-Duong_Tuan_Anh-Classification.ipynb",
      "provenance": [],
      "collapsed_sections": [],
      "include_colab_link": true
    },
    "kernelspec": {
      "name": "python3",
      "display_name": "Python 3"
    }
  },
  "cells": [
    {
      "cell_type": "markdown",
      "metadata": {
        "id": "view-in-github",
        "colab_type": "text"
      },
      "source": [
        "<a href=\"https://colab.research.google.com/github/anhdt061091/data-science/blob/master/Assignment1_Duong_Tuan_Anh_Classification.ipynb\" target=\"_parent\"><img src=\"https://colab.research.google.com/assets/colab-badge.svg\" alt=\"Open In Colab\"/></a>"
      ]
    },
    {
      "cell_type": "markdown",
      "metadata": {
        "id": "KhnZHeZhbOrM",
        "colab_type": "text"
      },
      "source": [
        "# Programming Assignment 1: Text Classification\n",
        "\n",
        "In this programming assignment, you will build a text classifier that can classify scientific articles into categories using their abstract.\n",
        "\n",
        "You are free to use any machine learning algorithm. However, you have to do this assignment and report results on test data using notebook (Google Colab or Jupyter Notebook)."
      ]
    },
    {
      "cell_type": "markdown",
      "metadata": {
        "id": "ykSBzMaFcKGr",
        "colab_type": "text"
      },
      "source": [
        "## Submission\n",
        "\n",
        "**Due date: 23:59 September 8, 2020 (Tuesday)**. It is the hard deadline. I will not grade for late submissions.\n",
        "\n",
        "What to submit:\n",
        "- A notebook file (.ibynb) that contains your solution for the assignment. Inside the notebook, you will write code to build the classification model and report the results on test data (accuracy, precision, recall, f1 scores).\n",
        "- Name your notebook as `Assignment1_<Yourname>_<StudentID>.ibynb`\n",
        "- Write your name on the notebook\n",
        "\n",
        "How to submit:\n",
        "- Attach your notebook file and send to my email gv.minhpqn@fsb.edu.vn with the email subject \"Assignment 1 - \\<Yourname\\>\"\n"
      ]
    },
    {
      "cell_type": "markdown",
      "metadata": {
        "id": "3gVVV7jcdzFZ",
        "colab_type": "text"
      },
      "source": [
        "## Dataset\n",
        "\n",
        "We sample data from [arXiv dataset](https://www.kaggle.com/Cornell-University/arxiv) and split the data into train/test sets. There are 10 categories in our data.\n",
        "\n",
        "We will download the data using the following commands"
      ]
    },
    {
      "cell_type": "code",
      "metadata": {
        "id": "SSN0HPEWeFK1",
        "colab_type": "code",
        "colab": {
          "base_uri": "https://localhost:8080/",
          "height": 398
        },
        "outputId": "af3c6f7a-ad6b-47f7-cf76-2488b698898a"
      },
      "source": [
        "!rm -f train.csv test.csv\n",
        "!wget https://raw.githubusercontent.com/minhpqn/NLP-Notes/master/data/arxiv/train.csv\n",
        "!wget https://raw.githubusercontent.com/minhpqn/NLP-Notes/master/data/arxiv/test.csv"
      ],
      "execution_count": null,
      "outputs": [
        {
          "output_type": "stream",
          "text": [
            "--2020-09-05 06:23:13--  https://raw.githubusercontent.com/minhpqn/NLP-Notes/master/data/arxiv/train.csv\n",
            "Resolving raw.githubusercontent.com (raw.githubusercontent.com)... 151.101.0.133, 151.101.64.133, 151.101.128.133, ...\n",
            "Connecting to raw.githubusercontent.com (raw.githubusercontent.com)|151.101.0.133|:443... connected.\n",
            "HTTP request sent, awaiting response... 200 OK\n",
            "Length: 10400749 (9.9M) [text/plain]\n",
            "Saving to: ‘train.csv’\n",
            "\n",
            "train.csv           100%[===================>]   9.92M  18.4MB/s    in 0.5s    \n",
            "\n",
            "2020-09-05 06:23:14 (18.4 MB/s) - ‘train.csv’ saved [10400749/10400749]\n",
            "\n",
            "--2020-09-05 06:23:14--  https://raw.githubusercontent.com/minhpqn/NLP-Notes/master/data/arxiv/test.csv\n",
            "Resolving raw.githubusercontent.com (raw.githubusercontent.com)... 151.101.0.133, 151.101.64.133, 151.101.128.133, ...\n",
            "Connecting to raw.githubusercontent.com (raw.githubusercontent.com)|151.101.0.133|:443... connected.\n",
            "HTTP request sent, awaiting response... 200 OK\n",
            "Length: 1133794 (1.1M) [text/plain]\n",
            "Saving to: ‘test.csv’\n",
            "\n",
            "test.csv            100%[===================>]   1.08M  --.-KB/s    in 0.1s    \n",
            "\n",
            "2020-09-05 06:23:14 (8.03 MB/s) - ‘test.csv’ saved [1133794/1133794]\n",
            "\n"
          ],
          "name": "stdout"
        }
      ]
    },
    {
      "cell_type": "markdown",
      "metadata": {
        "id": "73NVdAw7eHtR",
        "colab_type": "text"
      },
      "source": [
        "## Reading Data\n",
        "\n",
        "We can use [pandas](https://pandas.pydata.org/) module to read data into DataFrame objects."
      ]
    },
    {
      "cell_type": "code",
      "metadata": {
        "id": "CGVp34UReZhd",
        "colab_type": "code",
        "colab": {}
      },
      "source": [
        "import pandas as pd\n",
        "\n",
        "train_df = pd.read_csv('train.csv')\n",
        "test_df = pd.read_csv('test.csv')"
      ],
      "execution_count": null,
      "outputs": []
    },
    {
      "cell_type": "markdown",
      "metadata": {
        "id": "MZIGrL63ecTM",
        "colab_type": "text"
      },
      "source": [
        "Let's see some rows in the data frame `train_df`."
      ]
    },
    {
      "cell_type": "code",
      "metadata": {
        "id": "ComPiVWfehcl",
        "colab_type": "code",
        "colab": {
          "base_uri": "https://localhost:8080/",
          "height": 202
        },
        "outputId": "8b7037d4-7184-4a2d-f723-bfcafcca86e3"
      },
      "source": [
        "train_df.head()"
      ],
      "execution_count": null,
      "outputs": [
        {
          "output_type": "execute_result",
          "data": {
            "text/html": [
              "<div>\n",
              "<style scoped>\n",
              "    .dataframe tbody tr th:only-of-type {\n",
              "        vertical-align: middle;\n",
              "    }\n",
              "\n",
              "    .dataframe tbody tr th {\n",
              "        vertical-align: top;\n",
              "    }\n",
              "\n",
              "    .dataframe thead th {\n",
              "        text-align: right;\n",
              "    }\n",
              "</style>\n",
              "<table border=\"1\" class=\"dataframe\">\n",
              "  <thead>\n",
              "    <tr style=\"text-align: right;\">\n",
              "      <th></th>\n",
              "      <th>id</th>\n",
              "      <th>title</th>\n",
              "      <th>abstract</th>\n",
              "      <th>category</th>\n",
              "    </tr>\n",
              "  </thead>\n",
              "  <tbody>\n",
              "    <tr>\n",
              "      <th>0</th>\n",
              "      <td>1901.05003</td>\n",
              "      <td>Quantum Teleportation-Inspired Algorithm for S...</td>\n",
              "      <td>We show that low-depth random quantum circui...</td>\n",
              "      <td>quant-ph</td>\n",
              "    </tr>\n",
              "    <tr>\n",
              "      <th>1</th>\n",
              "      <td>1903.08905</td>\n",
              "      <td>RAP-Net: Recurrent Attention Pooling Networks ...</td>\n",
              "      <td>The response selection has been an emerging ...</td>\n",
              "      <td>cs</td>\n",
              "    </tr>\n",
              "    <tr>\n",
              "      <th>2</th>\n",
              "      <td>1907.11533</td>\n",
              "      <td>Combinatorial protein-protein interactions on ...</td>\n",
              "      <td>Scaffold proteins organize cellular processe...</td>\n",
              "      <td>q-bio</td>\n",
              "    </tr>\n",
              "    <tr>\n",
              "      <th>3</th>\n",
              "      <td>1711.07582</td>\n",
              "      <td>CVXR: An R Package for Disciplined Convex Opti...</td>\n",
              "      <td>CVXR is an R package that provides an object...</td>\n",
              "      <td>stat</td>\n",
              "    </tr>\n",
              "    <tr>\n",
              "      <th>4</th>\n",
              "      <td>1910.05833</td>\n",
              "      <td>Analytical Solution of (2+1) Dimensional Dirac...</td>\n",
              "      <td>In this article, we studied the system of (2...</td>\n",
              "      <td>quant-ph</td>\n",
              "    </tr>\n",
              "  </tbody>\n",
              "</table>\n",
              "</div>"
            ],
            "text/plain": [
              "           id  ...  category\n",
              "0  1901.05003  ...  quant-ph\n",
              "1  1903.08905  ...        cs\n",
              "2  1907.11533  ...     q-bio\n",
              "3  1711.07582  ...      stat\n",
              "4  1910.05833  ...  quant-ph\n",
              "\n",
              "[5 rows x 4 columns]"
            ]
          },
          "metadata": {
            "tags": []
          },
          "execution_count": 3
        }
      ]
    },
    {
      "cell_type": "markdown",
      "metadata": {
        "id": "ugmJiY7Sei9F",
        "colab_type": "text"
      },
      "source": [
        "## Assignment Assement\n",
        "\n",
        "- Loading & preprocessing data: 20 points\n",
        "- Training model: 40 points\n",
        "- Evaluation on test data: 40 points\n"
      ]
    },
    {
      "cell_type": "markdown",
      "metadata": {
        "id": "O_ohfVQDWCD6",
        "colab_type": "text"
      },
      "source": [
        "# New Section"
      ]
    },
    {
      "cell_type": "code",
      "metadata": {
        "id": "mjv9DA3efCGV",
        "colab_type": "code",
        "colab": {
          "base_uri": "https://localhost:8080/",
          "height": 172
        },
        "outputId": "1dcfd049-aa5d-4d62-d747-b435598f03c0"
      },
      "source": [
        "train_df.describe()"
      ],
      "execution_count": null,
      "outputs": [
        {
          "output_type": "execute_result",
          "data": {
            "text/html": [
              "<div>\n",
              "<style scoped>\n",
              "    .dataframe tbody tr th:only-of-type {\n",
              "        vertical-align: middle;\n",
              "    }\n",
              "\n",
              "    .dataframe tbody tr th {\n",
              "        vertical-align: top;\n",
              "    }\n",
              "\n",
              "    .dataframe thead th {\n",
              "        text-align: right;\n",
              "    }\n",
              "</style>\n",
              "<table border=\"1\" class=\"dataframe\">\n",
              "  <thead>\n",
              "    <tr style=\"text-align: right;\">\n",
              "      <th></th>\n",
              "      <th>id</th>\n",
              "      <th>title</th>\n",
              "      <th>abstract</th>\n",
              "      <th>category</th>\n",
              "    </tr>\n",
              "  </thead>\n",
              "  <tbody>\n",
              "    <tr>\n",
              "      <th>count</th>\n",
              "      <td>9000</td>\n",
              "      <td>9000</td>\n",
              "      <td>9000</td>\n",
              "      <td>9000</td>\n",
              "    </tr>\n",
              "    <tr>\n",
              "      <th>unique</th>\n",
              "      <td>9000</td>\n",
              "      <td>9000</td>\n",
              "      <td>9000</td>\n",
              "      <td>10</td>\n",
              "    </tr>\n",
              "    <tr>\n",
              "      <th>top</th>\n",
              "      <td>1803.03862</td>\n",
              "      <td>Quantum Memory and Quantum Cloning in Atomic F...</td>\n",
              "      <td>We study the replica symmetry breaking (RSB)...</td>\n",
              "      <td>cond-mat</td>\n",
              "    </tr>\n",
              "    <tr>\n",
              "      <th>freq</th>\n",
              "      <td>1</td>\n",
              "      <td>1</td>\n",
              "      <td>1</td>\n",
              "      <td>900</td>\n",
              "    </tr>\n",
              "  </tbody>\n",
              "</table>\n",
              "</div>"
            ],
            "text/plain": [
              "                id  ...  category\n",
              "count         9000  ...      9000\n",
              "unique        9000  ...        10\n",
              "top     1803.03862  ...  cond-mat\n",
              "freq             1  ...       900\n",
              "\n",
              "[4 rows x 4 columns]"
            ]
          },
          "metadata": {
            "tags": []
          },
          "execution_count": 4
        }
      ]
    },
    {
      "cell_type": "code",
      "metadata": {
        "id": "gTxcZ-HaBf3L",
        "colab_type": "code",
        "colab": {
          "base_uri": "https://localhost:8080/",
          "height": 356
        },
        "outputId": "3495762a-88c4-48b1-c2e9-b6be83cf7cae"
      },
      "source": [
        "test_df.head(10)"
      ],
      "execution_count": null,
      "outputs": [
        {
          "output_type": "execute_result",
          "data": {
            "text/html": [
              "<div>\n",
              "<style scoped>\n",
              "    .dataframe tbody tr th:only-of-type {\n",
              "        vertical-align: middle;\n",
              "    }\n",
              "\n",
              "    .dataframe tbody tr th {\n",
              "        vertical-align: top;\n",
              "    }\n",
              "\n",
              "    .dataframe thead th {\n",
              "        text-align: right;\n",
              "    }\n",
              "</style>\n",
              "<table border=\"1\" class=\"dataframe\">\n",
              "  <thead>\n",
              "    <tr style=\"text-align: right;\">\n",
              "      <th></th>\n",
              "      <th>id</th>\n",
              "      <th>title</th>\n",
              "      <th>abstract</th>\n",
              "      <th>category</th>\n",
              "    </tr>\n",
              "  </thead>\n",
              "  <tbody>\n",
              "    <tr>\n",
              "      <th>0</th>\n",
              "      <td>2004.12573</td>\n",
              "      <td>Bayesian Learning of Probabilistic Dipole Inve...</td>\n",
              "      <td>A learning-based posterior distribution esti...</td>\n",
              "      <td>eess</td>\n",
              "    </tr>\n",
              "    <tr>\n",
              "      <th>1</th>\n",
              "      <td>1908.01621</td>\n",
              "      <td>Extending parton branching TMDs to small $x$</td>\n",
              "      <td>We explore the possibility to include small-...</td>\n",
              "      <td>hep-ph</td>\n",
              "    </tr>\n",
              "    <tr>\n",
              "      <th>2</th>\n",
              "      <td>1906.10356</td>\n",
              "      <td>Millimeter-Wave Path Loss at 73 GHz in Indoor ...</td>\n",
              "      <td>In this paper, two large-scale fading path l...</td>\n",
              "      <td>eess</td>\n",
              "    </tr>\n",
              "    <tr>\n",
              "      <th>3</th>\n",
              "      <td>1905.10272</td>\n",
              "      <td>Exploring Evolving Plants as Interacting Parti...</td>\n",
              "      <td>We model evolution of plants in a world, mad...</td>\n",
              "      <td>q-bio</td>\n",
              "    </tr>\n",
              "    <tr>\n",
              "      <th>4</th>\n",
              "      <td>1910.01033</td>\n",
              "      <td>Dynamic emergence of fragmenting, exploding ca...</td>\n",
              "      <td>Experimental results from irradiated-carbon ...</td>\n",
              "      <td>cond-mat</td>\n",
              "    </tr>\n",
              "    <tr>\n",
              "      <th>5</th>\n",
              "      <td>1901.11248</td>\n",
              "      <td>Triplet superconductivity in ferromagnets due ...</td>\n",
              "      <td>We consider the superconducting pairing indu...</td>\n",
              "      <td>cond-mat</td>\n",
              "    </tr>\n",
              "    <tr>\n",
              "      <th>6</th>\n",
              "      <td>1704.03005</td>\n",
              "      <td>Functional Regression on Manifold with Contami...</td>\n",
              "      <td>We propose a new method for functional nonpa...</td>\n",
              "      <td>stat</td>\n",
              "    </tr>\n",
              "    <tr>\n",
              "      <th>7</th>\n",
              "      <td>2008.09726</td>\n",
              "      <td>Variational approach to time-dependent fluores...</td>\n",
              "      <td>We employ the Dirac-Frenkel variational prin...</td>\n",
              "      <td>quant-ph</td>\n",
              "    </tr>\n",
              "    <tr>\n",
              "      <th>8</th>\n",
              "      <td>1911.01127</td>\n",
              "      <td>Generalized Stueckelberg-Higgs gauge theories</td>\n",
              "      <td>The aim of this work is to discuss and explo...</td>\n",
              "      <td>hep-th</td>\n",
              "    </tr>\n",
              "    <tr>\n",
              "      <th>9</th>\n",
              "      <td>1906.02822</td>\n",
              "      <td>The Political Significance of Social Penumbras</td>\n",
              "      <td>To explain the political clout of different ...</td>\n",
              "      <td>stat</td>\n",
              "    </tr>\n",
              "  </tbody>\n",
              "</table>\n",
              "</div>"
            ],
            "text/plain": [
              "           id  ...  category\n",
              "0  2004.12573  ...      eess\n",
              "1  1908.01621  ...    hep-ph\n",
              "2  1906.10356  ...      eess\n",
              "3  1905.10272  ...     q-bio\n",
              "4  1910.01033  ...  cond-mat\n",
              "5  1901.11248  ...  cond-mat\n",
              "6  1704.03005  ...      stat\n",
              "7  2008.09726  ...  quant-ph\n",
              "8  1911.01127  ...    hep-th\n",
              "9  1906.02822  ...      stat\n",
              "\n",
              "[10 rows x 4 columns]"
            ]
          },
          "metadata": {
            "tags": []
          },
          "execution_count": 5
        }
      ]
    },
    {
      "cell_type": "code",
      "metadata": {
        "id": "PrJkpYFJ84pO",
        "colab_type": "code",
        "colab": {
          "base_uri": "https://localhost:8080/",
          "height": 208
        },
        "outputId": "e141faaf-fdd6-4b07-d681-c51dc6ce1d36"
      },
      "source": [
        "train_df.info()"
      ],
      "execution_count": null,
      "outputs": [
        {
          "output_type": "stream",
          "text": [
            "<class 'pandas.core.frame.DataFrame'>\n",
            "RangeIndex: 9000 entries, 0 to 8999\n",
            "Data columns (total 4 columns):\n",
            " #   Column    Non-Null Count  Dtype \n",
            "---  ------    --------------  ----- \n",
            " 0   id        9000 non-null   object\n",
            " 1   title     9000 non-null   object\n",
            " 2   abstract  9000 non-null   object\n",
            " 3   category  9000 non-null   object\n",
            "dtypes: object(4)\n",
            "memory usage: 281.4+ KB\n"
          ],
          "name": "stdout"
        }
      ]
    },
    {
      "cell_type": "code",
      "metadata": {
        "id": "DWNbhcbt3Ykx",
        "colab_type": "code",
        "colab": {}
      },
      "source": [
        "dummy_variable_1 = pd.get_dummies(train_df[\"category\"])"
      ],
      "execution_count": null,
      "outputs": []
    },
    {
      "cell_type": "code",
      "metadata": {
        "id": "kC-pwR0V5qBs",
        "colab_type": "code",
        "colab": {
          "base_uri": "https://localhost:8080/",
          "height": 260
        },
        "outputId": "1c055774-7c0e-49af-aebe-86d41113f5d6"
      },
      "source": [
        "print(dummy_variable_1)"
      ],
      "execution_count": null,
      "outputs": [
        {
          "output_type": "stream",
          "text": [
            "      astro-ph  cond-mat  cs  eess  hep-ph  hep-th  math  q-bio  quant-ph  stat\n",
            "0            0         0   0     0       0       0     0      0         1     0\n",
            "1            0         0   1     0       0       0     0      0         0     0\n",
            "2            0         0   0     0       0       0     0      1         0     0\n",
            "3            0         0   0     0       0       0     0      0         0     1\n",
            "4            0         0   0     0       0       0     0      0         1     0\n",
            "...        ...       ...  ..   ...     ...     ...   ...    ...       ...   ...\n",
            "8995         0         0   0     0       0       0     0      0         1     0\n",
            "8996         0         0   0     0       0       1     0      0         0     0\n",
            "8997         0         0   0     0       0       1     0      0         0     0\n",
            "8998         0         0   0     0       0       0     0      0         1     0\n",
            "8999         0         0   0     0       0       0     0      0         0     1\n",
            "\n",
            "[9000 rows x 10 columns]\n"
          ],
          "name": "stdout"
        }
      ]
    },
    {
      "cell_type": "code",
      "metadata": {
        "id": "hEeUz_t85sz5",
        "colab_type": "code",
        "colab": {
          "base_uri": "https://localhost:8080/",
          "height": 202
        },
        "outputId": "2b6f5e3b-fa81-47f6-908a-9781cd678a33"
      },
      "source": [
        "dummy_variable_1.head()"
      ],
      "execution_count": null,
      "outputs": [
        {
          "output_type": "execute_result",
          "data": {
            "text/html": [
              "<div>\n",
              "<style scoped>\n",
              "    .dataframe tbody tr th:only-of-type {\n",
              "        vertical-align: middle;\n",
              "    }\n",
              "\n",
              "    .dataframe tbody tr th {\n",
              "        vertical-align: top;\n",
              "    }\n",
              "\n",
              "    .dataframe thead th {\n",
              "        text-align: right;\n",
              "    }\n",
              "</style>\n",
              "<table border=\"1\" class=\"dataframe\">\n",
              "  <thead>\n",
              "    <tr style=\"text-align: right;\">\n",
              "      <th></th>\n",
              "      <th>astro-ph</th>\n",
              "      <th>cond-mat</th>\n",
              "      <th>cs</th>\n",
              "      <th>eess</th>\n",
              "      <th>hep-ph</th>\n",
              "      <th>hep-th</th>\n",
              "      <th>math</th>\n",
              "      <th>q-bio</th>\n",
              "      <th>quant-ph</th>\n",
              "      <th>stat</th>\n",
              "    </tr>\n",
              "  </thead>\n",
              "  <tbody>\n",
              "    <tr>\n",
              "      <th>0</th>\n",
              "      <td>0</td>\n",
              "      <td>0</td>\n",
              "      <td>0</td>\n",
              "      <td>0</td>\n",
              "      <td>0</td>\n",
              "      <td>0</td>\n",
              "      <td>0</td>\n",
              "      <td>0</td>\n",
              "      <td>1</td>\n",
              "      <td>0</td>\n",
              "    </tr>\n",
              "    <tr>\n",
              "      <th>1</th>\n",
              "      <td>0</td>\n",
              "      <td>0</td>\n",
              "      <td>1</td>\n",
              "      <td>0</td>\n",
              "      <td>0</td>\n",
              "      <td>0</td>\n",
              "      <td>0</td>\n",
              "      <td>0</td>\n",
              "      <td>0</td>\n",
              "      <td>0</td>\n",
              "    </tr>\n",
              "    <tr>\n",
              "      <th>2</th>\n",
              "      <td>0</td>\n",
              "      <td>0</td>\n",
              "      <td>0</td>\n",
              "      <td>0</td>\n",
              "      <td>0</td>\n",
              "      <td>0</td>\n",
              "      <td>0</td>\n",
              "      <td>1</td>\n",
              "      <td>0</td>\n",
              "      <td>0</td>\n",
              "    </tr>\n",
              "    <tr>\n",
              "      <th>3</th>\n",
              "      <td>0</td>\n",
              "      <td>0</td>\n",
              "      <td>0</td>\n",
              "      <td>0</td>\n",
              "      <td>0</td>\n",
              "      <td>0</td>\n",
              "      <td>0</td>\n",
              "      <td>0</td>\n",
              "      <td>0</td>\n",
              "      <td>1</td>\n",
              "    </tr>\n",
              "    <tr>\n",
              "      <th>4</th>\n",
              "      <td>0</td>\n",
              "      <td>0</td>\n",
              "      <td>0</td>\n",
              "      <td>0</td>\n",
              "      <td>0</td>\n",
              "      <td>0</td>\n",
              "      <td>0</td>\n",
              "      <td>0</td>\n",
              "      <td>1</td>\n",
              "      <td>0</td>\n",
              "    </tr>\n",
              "  </tbody>\n",
              "</table>\n",
              "</div>"
            ],
            "text/plain": [
              "   astro-ph  cond-mat  cs  eess  hep-ph  hep-th  math  q-bio  quant-ph  stat\n",
              "0         0         0   0     0       0       0     0      0         1     0\n",
              "1         0         0   1     0       0       0     0      0         0     0\n",
              "2         0         0   0     0       0       0     0      1         0     0\n",
              "3         0         0   0     0       0       0     0      0         0     1\n",
              "4         0         0   0     0       0       0     0      0         1     0"
            ]
          },
          "metadata": {
            "tags": []
          },
          "execution_count": 9
        }
      ]
    },
    {
      "cell_type": "code",
      "metadata": {
        "id": "vJrCGj_d5_Ma",
        "colab_type": "code",
        "colab": {}
      },
      "source": [
        "train_df = pd.concat([train_df, dummy_variable_1], axis=1)"
      ],
      "execution_count": null,
      "outputs": []
    },
    {
      "cell_type": "code",
      "metadata": {
        "id": "IRrNatOi6R_0",
        "colab_type": "code",
        "colab": {}
      },
      "source": [
        "train_df.drop(\"category\", axis = 1, inplace=True)"
      ],
      "execution_count": null,
      "outputs": []
    },
    {
      "cell_type": "code",
      "metadata": {
        "id": "BmUTthAI6Z9R",
        "colab_type": "code",
        "colab": {
          "base_uri": "https://localhost:8080/",
          "height": 202
        },
        "outputId": "ac891607-91d6-49d9-c828-67d465bd29ed"
      },
      "source": [
        "train_df.head()"
      ],
      "execution_count": null,
      "outputs": [
        {
          "output_type": "execute_result",
          "data": {
            "text/html": [
              "<div>\n",
              "<style scoped>\n",
              "    .dataframe tbody tr th:only-of-type {\n",
              "        vertical-align: middle;\n",
              "    }\n",
              "\n",
              "    .dataframe tbody tr th {\n",
              "        vertical-align: top;\n",
              "    }\n",
              "\n",
              "    .dataframe thead th {\n",
              "        text-align: right;\n",
              "    }\n",
              "</style>\n",
              "<table border=\"1\" class=\"dataframe\">\n",
              "  <thead>\n",
              "    <tr style=\"text-align: right;\">\n",
              "      <th></th>\n",
              "      <th>id</th>\n",
              "      <th>title</th>\n",
              "      <th>abstract</th>\n",
              "      <th>astro-ph</th>\n",
              "      <th>cond-mat</th>\n",
              "      <th>cs</th>\n",
              "      <th>eess</th>\n",
              "      <th>hep-ph</th>\n",
              "      <th>hep-th</th>\n",
              "      <th>math</th>\n",
              "      <th>q-bio</th>\n",
              "      <th>quant-ph</th>\n",
              "      <th>stat</th>\n",
              "    </tr>\n",
              "  </thead>\n",
              "  <tbody>\n",
              "    <tr>\n",
              "      <th>0</th>\n",
              "      <td>1901.05003</td>\n",
              "      <td>Quantum Teleportation-Inspired Algorithm for S...</td>\n",
              "      <td>We show that low-depth random quantum circui...</td>\n",
              "      <td>0</td>\n",
              "      <td>0</td>\n",
              "      <td>0</td>\n",
              "      <td>0</td>\n",
              "      <td>0</td>\n",
              "      <td>0</td>\n",
              "      <td>0</td>\n",
              "      <td>0</td>\n",
              "      <td>1</td>\n",
              "      <td>0</td>\n",
              "    </tr>\n",
              "    <tr>\n",
              "      <th>1</th>\n",
              "      <td>1903.08905</td>\n",
              "      <td>RAP-Net: Recurrent Attention Pooling Networks ...</td>\n",
              "      <td>The response selection has been an emerging ...</td>\n",
              "      <td>0</td>\n",
              "      <td>0</td>\n",
              "      <td>1</td>\n",
              "      <td>0</td>\n",
              "      <td>0</td>\n",
              "      <td>0</td>\n",
              "      <td>0</td>\n",
              "      <td>0</td>\n",
              "      <td>0</td>\n",
              "      <td>0</td>\n",
              "    </tr>\n",
              "    <tr>\n",
              "      <th>2</th>\n",
              "      <td>1907.11533</td>\n",
              "      <td>Combinatorial protein-protein interactions on ...</td>\n",
              "      <td>Scaffold proteins organize cellular processe...</td>\n",
              "      <td>0</td>\n",
              "      <td>0</td>\n",
              "      <td>0</td>\n",
              "      <td>0</td>\n",
              "      <td>0</td>\n",
              "      <td>0</td>\n",
              "      <td>0</td>\n",
              "      <td>1</td>\n",
              "      <td>0</td>\n",
              "      <td>0</td>\n",
              "    </tr>\n",
              "    <tr>\n",
              "      <th>3</th>\n",
              "      <td>1711.07582</td>\n",
              "      <td>CVXR: An R Package for Disciplined Convex Opti...</td>\n",
              "      <td>CVXR is an R package that provides an object...</td>\n",
              "      <td>0</td>\n",
              "      <td>0</td>\n",
              "      <td>0</td>\n",
              "      <td>0</td>\n",
              "      <td>0</td>\n",
              "      <td>0</td>\n",
              "      <td>0</td>\n",
              "      <td>0</td>\n",
              "      <td>0</td>\n",
              "      <td>1</td>\n",
              "    </tr>\n",
              "    <tr>\n",
              "      <th>4</th>\n",
              "      <td>1910.05833</td>\n",
              "      <td>Analytical Solution of (2+1) Dimensional Dirac...</td>\n",
              "      <td>In this article, we studied the system of (2...</td>\n",
              "      <td>0</td>\n",
              "      <td>0</td>\n",
              "      <td>0</td>\n",
              "      <td>0</td>\n",
              "      <td>0</td>\n",
              "      <td>0</td>\n",
              "      <td>0</td>\n",
              "      <td>0</td>\n",
              "      <td>1</td>\n",
              "      <td>0</td>\n",
              "    </tr>\n",
              "  </tbody>\n",
              "</table>\n",
              "</div>"
            ],
            "text/plain": [
              "           id  ... stat\n",
              "0  1901.05003  ...    0\n",
              "1  1903.08905  ...    0\n",
              "2  1907.11533  ...    0\n",
              "3  1711.07582  ...    1\n",
              "4  1910.05833  ...    0\n",
              "\n",
              "[5 rows x 13 columns]"
            ]
          },
          "metadata": {
            "tags": []
          },
          "execution_count": 12
        }
      ]
    },
    {
      "cell_type": "code",
      "metadata": {
        "id": "Hpw7X5jmSEf7",
        "colab_type": "code",
        "colab": {
          "base_uri": "https://localhost:8080/",
          "height": 202
        },
        "outputId": "c4d43930-0aca-4536-d41d-16258cd940ad"
      },
      "source": [
        "test_df.head()"
      ],
      "execution_count": null,
      "outputs": [
        {
          "output_type": "execute_result",
          "data": {
            "text/html": [
              "<div>\n",
              "<style scoped>\n",
              "    .dataframe tbody tr th:only-of-type {\n",
              "        vertical-align: middle;\n",
              "    }\n",
              "\n",
              "    .dataframe tbody tr th {\n",
              "        vertical-align: top;\n",
              "    }\n",
              "\n",
              "    .dataframe thead th {\n",
              "        text-align: right;\n",
              "    }\n",
              "</style>\n",
              "<table border=\"1\" class=\"dataframe\">\n",
              "  <thead>\n",
              "    <tr style=\"text-align: right;\">\n",
              "      <th></th>\n",
              "      <th>id</th>\n",
              "      <th>title</th>\n",
              "      <th>abstract</th>\n",
              "      <th>category</th>\n",
              "    </tr>\n",
              "  </thead>\n",
              "  <tbody>\n",
              "    <tr>\n",
              "      <th>0</th>\n",
              "      <td>2004.12573</td>\n",
              "      <td>Bayesian Learning of Probabilistic Dipole Inve...</td>\n",
              "      <td>A learning-based posterior distribution esti...</td>\n",
              "      <td>eess</td>\n",
              "    </tr>\n",
              "    <tr>\n",
              "      <th>1</th>\n",
              "      <td>1908.01621</td>\n",
              "      <td>Extending parton branching TMDs to small $x$</td>\n",
              "      <td>We explore the possibility to include small-...</td>\n",
              "      <td>hep-ph</td>\n",
              "    </tr>\n",
              "    <tr>\n",
              "      <th>2</th>\n",
              "      <td>1906.10356</td>\n",
              "      <td>Millimeter-Wave Path Loss at 73 GHz in Indoor ...</td>\n",
              "      <td>In this paper, two large-scale fading path l...</td>\n",
              "      <td>eess</td>\n",
              "    </tr>\n",
              "    <tr>\n",
              "      <th>3</th>\n",
              "      <td>1905.10272</td>\n",
              "      <td>Exploring Evolving Plants as Interacting Parti...</td>\n",
              "      <td>We model evolution of plants in a world, mad...</td>\n",
              "      <td>q-bio</td>\n",
              "    </tr>\n",
              "    <tr>\n",
              "      <th>4</th>\n",
              "      <td>1910.01033</td>\n",
              "      <td>Dynamic emergence of fragmenting, exploding ca...</td>\n",
              "      <td>Experimental results from irradiated-carbon ...</td>\n",
              "      <td>cond-mat</td>\n",
              "    </tr>\n",
              "  </tbody>\n",
              "</table>\n",
              "</div>"
            ],
            "text/plain": [
              "           id  ...  category\n",
              "0  2004.12573  ...      eess\n",
              "1  1908.01621  ...    hep-ph\n",
              "2  1906.10356  ...      eess\n",
              "3  1905.10272  ...     q-bio\n",
              "4  1910.01033  ...  cond-mat\n",
              "\n",
              "[5 rows x 4 columns]"
            ]
          },
          "metadata": {
            "tags": []
          },
          "execution_count": 13
        }
      ]
    },
    {
      "cell_type": "code",
      "metadata": {
        "id": "BfHEN0PwSHkT",
        "colab_type": "code",
        "colab": {}
      },
      "source": [
        "import numpy as np\n",
        "from sklearn.feature_extraction.text import TfidfVectorizer\n",
        "from sklearn.linear_model import LogisticRegression\n",
        "from sklearn.model_selection import cross_val_score\n",
        "from scipy.sparse import hstack"
      ],
      "execution_count": null,
      "outputs": []
    },
    {
      "cell_type": "code",
      "metadata": {
        "id": "-cXVa6HtSRAv",
        "colab_type": "code",
        "colab": {}
      },
      "source": [
        "class_names =['astro-ph', 'cond-mat','cs','eess','hep-ph','hep-th','math','q-bio','quant-ph','stat' ]"
      ],
      "execution_count": null,
      "outputs": []
    },
    {
      "cell_type": "code",
      "metadata": {
        "id": "x1hf-Wj_TDJ9",
        "colab_type": "code",
        "colab": {}
      },
      "source": [
        "train_text = train_df['abstract']\n",
        "test_text = test_df['abstract']\n",
        "all_text = pd.concat([train_text, test_text])"
      ],
      "execution_count": null,
      "outputs": []
    },
    {
      "cell_type": "code",
      "metadata": {
        "id": "Org1Om65TQxA",
        "colab_type": "code",
        "colab": {}
      },
      "source": [
        "word_vectorizer = TfidfVectorizer(\n",
        "    sublinear_tf=True,\n",
        "    strip_accents='unicode',\n",
        "    analyzer='word',\n",
        "    token_pattern=r'\\w{1,}',\n",
        "    stop_words='english',\n",
        "    ngram_range=(1, 1),\n",
        "    max_features=10000)"
      ],
      "execution_count": null,
      "outputs": []
    },
    {
      "cell_type": "code",
      "metadata": {
        "id": "t2zEhJygYRRO",
        "colab_type": "code",
        "colab": {}
      },
      "source": [
        "word_vectorizer.fit(all_text)\n",
        "train_word_features = word_vectorizer.transform(train_text)\n",
        "test_word_features = word_vectorizer.transform(test_text)"
      ],
      "execution_count": null,
      "outputs": []
    },
    {
      "cell_type": "code",
      "metadata": {
        "id": "EfdOUDl4TYgK",
        "colab_type": "code",
        "colab": {}
      },
      "source": [
        "char_vectorizer = TfidfVectorizer(\n",
        "    sublinear_tf=True,\n",
        "    strip_accents='unicode',\n",
        "    analyzer='char',\n",
        "    stop_words='english',\n",
        "    ngram_range=(2, 6),\n",
        "    max_features=50000)"
      ],
      "execution_count": null,
      "outputs": []
    },
    {
      "cell_type": "code",
      "metadata": {
        "id": "1zYx34exYaLt",
        "colab_type": "code",
        "colab": {
          "base_uri": "https://localhost:8080/",
          "height": 52
        },
        "outputId": "ad4b04e1-67cd-438f-d749-d088308232f9"
      },
      "source": [
        "char_vectorizer.fit(all_text)\n",
        "train_char_features = char_vectorizer.transform(train_text)\n",
        "test_char_features = char_vectorizer.transform(test_text)"
      ],
      "execution_count": null,
      "outputs": [
        {
          "output_type": "stream",
          "text": [
            "/usr/local/lib/python3.6/dist-packages/sklearn/feature_extraction/text.py:520: UserWarning: The parameter 'stop_words' will not be used since 'analyzer' != 'word'\n",
            "  warnings.warn(\"The parameter 'stop_words' will not be used\"\n"
          ],
          "name": "stderr"
        }
      ]
    },
    {
      "cell_type": "code",
      "metadata": {
        "id": "NacsPM_GTcJz",
        "colab_type": "code",
        "colab": {}
      },
      "source": [
        "train_features = hstack([train_char_features, train_word_features])\n",
        "test_features = hstack([test_char_features, test_word_features])"
      ],
      "execution_count": null,
      "outputs": []
    },
    {
      "cell_type": "code",
      "metadata": {
        "id": "ZQFDw6ngTnKy",
        "colab_type": "code",
        "colab": {
          "base_uri": "https://localhost:8080/",
          "height": 190
        },
        "outputId": "eb158429-cc89-4936-a121-073a400cee15"
      },
      "source": [
        "scores = []\n",
        "submission = pd.DataFrame.from_dict({'id': test_df['id']})\n",
        "for class_name in class_names:\n",
        "    train_target = train_df[class_name]\n",
        "    classifier = LogisticRegression(C=0.1, solver='sag')\n",
        "\n",
        "    cv_score = np.mean(cross_val_score(classifier, train_features, train_target, cv=3, scoring='roc_auc'))\n",
        "    scores.append(cv_score)\n",
        "    print('CV score for class {} is {}'.format(class_name, cv_score))\n",
        "\n",
        "    classifier.fit(train_features, train_target)\n",
        "    submission[class_name] = classifier.predict_proba(test_features)[:, 1]"
      ],
      "execution_count": null,
      "outputs": [
        {
          "output_type": "stream",
          "text": [
            "CV score for class astro-ph is 0.9955028806584362\n",
            "CV score for class cond-mat is 0.9845930041152263\n",
            "CV score for class cs is 0.9557444444444445\n",
            "CV score for class eess is 0.9772740740740741\n",
            "CV score for class hep-ph is 0.9954325102880658\n",
            "CV score for class hep-th is 0.992025514403292\n",
            "CV score for class math is 0.9818127572016461\n",
            "CV score for class q-bio is 0.9814131687242797\n",
            "CV score for class quant-ph is 0.9902802469135802\n",
            "CV score for class stat is 0.9832440329218106\n"
          ],
          "name": "stdout"
        }
      ]
    },
    {
      "cell_type": "code",
      "metadata": {
        "id": "4EEr0usDTp6k",
        "colab_type": "code",
        "colab": {
          "base_uri": "https://localhost:8080/",
          "height": 34
        },
        "outputId": "74ee6122-2e83-4f7d-e4bc-101e567003ce"
      },
      "source": [
        "print('Total CV score is {}'.format(np.mean(scores)))"
      ],
      "execution_count": null,
      "outputs": [
        {
          "output_type": "stream",
          "text": [
            "Total CV score is 0.9837322633744854\n"
          ],
          "name": "stdout"
        }
      ]
    },
    {
      "cell_type": "code",
      "metadata": {
        "id": "-TB9V25fBtUK",
        "colab_type": "code",
        "colab": {
          "base_uri": "https://localhost:8080/",
          "height": 202
        },
        "outputId": "b249381f-495c-4238-8f55-3a3684ae2d0d"
      },
      "source": [
        "submission.head()"
      ],
      "execution_count": null,
      "outputs": [
        {
          "output_type": "execute_result",
          "data": {
            "text/html": [
              "<div>\n",
              "<style scoped>\n",
              "    .dataframe tbody tr th:only-of-type {\n",
              "        vertical-align: middle;\n",
              "    }\n",
              "\n",
              "    .dataframe tbody tr th {\n",
              "        vertical-align: top;\n",
              "    }\n",
              "\n",
              "    .dataframe thead th {\n",
              "        text-align: right;\n",
              "    }\n",
              "</style>\n",
              "<table border=\"1\" class=\"dataframe\">\n",
              "  <thead>\n",
              "    <tr style=\"text-align: right;\">\n",
              "      <th></th>\n",
              "      <th>id</th>\n",
              "      <th>astro-ph</th>\n",
              "      <th>cond-mat</th>\n",
              "      <th>cs</th>\n",
              "      <th>eess</th>\n",
              "      <th>hep-ph</th>\n",
              "      <th>hep-th</th>\n",
              "      <th>math</th>\n",
              "      <th>q-bio</th>\n",
              "      <th>quant-ph</th>\n",
              "      <th>stat</th>\n",
              "    </tr>\n",
              "  </thead>\n",
              "  <tbody>\n",
              "    <tr>\n",
              "      <th>0</th>\n",
              "      <td>2004.12573</td>\n",
              "      <td>0.040221</td>\n",
              "      <td>0.033025</td>\n",
              "      <td>0.249323</td>\n",
              "      <td>0.172362</td>\n",
              "      <td>0.045330</td>\n",
              "      <td>0.024331</td>\n",
              "      <td>0.046489</td>\n",
              "      <td>0.081140</td>\n",
              "      <td>0.051045</td>\n",
              "      <td>0.318164</td>\n",
              "    </tr>\n",
              "    <tr>\n",
              "      <th>1</th>\n",
              "      <td>1908.01621</td>\n",
              "      <td>0.059734</td>\n",
              "      <td>0.072590</td>\n",
              "      <td>0.060449</td>\n",
              "      <td>0.053294</td>\n",
              "      <td>0.322100</td>\n",
              "      <td>0.063074</td>\n",
              "      <td>0.068203</td>\n",
              "      <td>0.076509</td>\n",
              "      <td>0.052788</td>\n",
              "      <td>0.085800</td>\n",
              "    </tr>\n",
              "    <tr>\n",
              "      <th>2</th>\n",
              "      <td>1906.10356</td>\n",
              "      <td>0.089927</td>\n",
              "      <td>0.047372</td>\n",
              "      <td>0.075227</td>\n",
              "      <td>0.318570</td>\n",
              "      <td>0.072456</td>\n",
              "      <td>0.034590</td>\n",
              "      <td>0.045688</td>\n",
              "      <td>0.076573</td>\n",
              "      <td>0.070610</td>\n",
              "      <td>0.082144</td>\n",
              "    </tr>\n",
              "    <tr>\n",
              "      <th>3</th>\n",
              "      <td>1905.10272</td>\n",
              "      <td>0.081007</td>\n",
              "      <td>0.080256</td>\n",
              "      <td>0.104306</td>\n",
              "      <td>0.065863</td>\n",
              "      <td>0.056899</td>\n",
              "      <td>0.043682</td>\n",
              "      <td>0.066180</td>\n",
              "      <td>0.242830</td>\n",
              "      <td>0.066492</td>\n",
              "      <td>0.071437</td>\n",
              "    </tr>\n",
              "    <tr>\n",
              "      <th>4</th>\n",
              "      <td>1910.01033</td>\n",
              "      <td>0.068740</td>\n",
              "      <td>0.145125</td>\n",
              "      <td>0.066160</td>\n",
              "      <td>0.063128</td>\n",
              "      <td>0.049850</td>\n",
              "      <td>0.076233</td>\n",
              "      <td>0.053473</td>\n",
              "      <td>0.130357</td>\n",
              "      <td>0.086347</td>\n",
              "      <td>0.075114</td>\n",
              "    </tr>\n",
              "  </tbody>\n",
              "</table>\n",
              "</div>"
            ],
            "text/plain": [
              "           id  astro-ph  cond-mat  ...     q-bio  quant-ph      stat\n",
              "0  2004.12573  0.040221  0.033025  ...  0.081140  0.051045  0.318164\n",
              "1  1908.01621  0.059734  0.072590  ...  0.076509  0.052788  0.085800\n",
              "2  1906.10356  0.089927  0.047372  ...  0.076573  0.070610  0.082144\n",
              "3  1905.10272  0.081007  0.080256  ...  0.242830  0.066492  0.071437\n",
              "4  1910.01033  0.068740  0.145125  ...  0.130357  0.086347  0.075114\n",
              "\n",
              "[5 rows x 11 columns]"
            ]
          },
          "metadata": {
            "tags": []
          },
          "execution_count": 24
        }
      ]
    },
    {
      "cell_type": "code",
      "metadata": {
        "id": "6wP0zCSeTu97",
        "colab_type": "code",
        "colab": {}
      },
      "source": [
        "submission1 = submission.drop (['id'], axis = 1)"
      ],
      "execution_count": null,
      "outputs": []
    },
    {
      "cell_type": "code",
      "metadata": {
        "id": "kHWLOH8dQZTf",
        "colab_type": "code",
        "colab": {
          "base_uri": "https://localhost:8080/",
          "height": 138
        },
        "outputId": "7d4e16c0-905c-430d-f061-7e8e205446b1"
      },
      "source": [
        "i = 0\n",
        "y = np.zeros((1000,10))\n",
        "for i in range(1000):\n",
        "  x = submission1.iloc[i]\n",
        "  y[i] = np.zeros(x.shape)\n",
        "  y[i][np.argmax(x)] = 1\n",
        "  i = i + 1 \n",
        "print(y)"
      ],
      "execution_count": null,
      "outputs": [
        {
          "output_type": "stream",
          "text": [
            "[[0. 0. 0. ... 0. 0. 1.]\n",
            " [0. 0. 0. ... 0. 0. 0.]\n",
            " [0. 0. 0. ... 0. 0. 0.]\n",
            " ...\n",
            " [0. 0. 0. ... 0. 1. 0.]\n",
            " [0. 0. 1. ... 0. 0. 0.]\n",
            " [0. 0. 0. ... 0. 0. 0.]]\n"
          ],
          "name": "stdout"
        }
      ]
    },
    {
      "cell_type": "code",
      "metadata": {
        "id": "F9lVRttiLBVR",
        "colab_type": "code",
        "colab": {
          "base_uri": "https://localhost:8080/",
          "height": 202
        },
        "outputId": "c83fa823-e43b-4917-88bb-e8235ceb635c"
      },
      "source": [
        "submission2 = pd.DataFrame(data=y, columns=['astro-ph','cond-mat','cs','eess','hep-ph','hep-th','math','q-bio','quant-ph','stat'])\n",
        "submission2.head()"
      ],
      "execution_count": null,
      "outputs": [
        {
          "output_type": "execute_result",
          "data": {
            "text/html": [
              "<div>\n",
              "<style scoped>\n",
              "    .dataframe tbody tr th:only-of-type {\n",
              "        vertical-align: middle;\n",
              "    }\n",
              "\n",
              "    .dataframe tbody tr th {\n",
              "        vertical-align: top;\n",
              "    }\n",
              "\n",
              "    .dataframe thead th {\n",
              "        text-align: right;\n",
              "    }\n",
              "</style>\n",
              "<table border=\"1\" class=\"dataframe\">\n",
              "  <thead>\n",
              "    <tr style=\"text-align: right;\">\n",
              "      <th></th>\n",
              "      <th>astro-ph</th>\n",
              "      <th>cond-mat</th>\n",
              "      <th>cs</th>\n",
              "      <th>eess</th>\n",
              "      <th>hep-ph</th>\n",
              "      <th>hep-th</th>\n",
              "      <th>math</th>\n",
              "      <th>q-bio</th>\n",
              "      <th>quant-ph</th>\n",
              "      <th>stat</th>\n",
              "    </tr>\n",
              "  </thead>\n",
              "  <tbody>\n",
              "    <tr>\n",
              "      <th>0</th>\n",
              "      <td>0.0</td>\n",
              "      <td>0.0</td>\n",
              "      <td>0.0</td>\n",
              "      <td>0.0</td>\n",
              "      <td>0.0</td>\n",
              "      <td>0.0</td>\n",
              "      <td>0.0</td>\n",
              "      <td>0.0</td>\n",
              "      <td>0.0</td>\n",
              "      <td>1.0</td>\n",
              "    </tr>\n",
              "    <tr>\n",
              "      <th>1</th>\n",
              "      <td>0.0</td>\n",
              "      <td>0.0</td>\n",
              "      <td>0.0</td>\n",
              "      <td>0.0</td>\n",
              "      <td>1.0</td>\n",
              "      <td>0.0</td>\n",
              "      <td>0.0</td>\n",
              "      <td>0.0</td>\n",
              "      <td>0.0</td>\n",
              "      <td>0.0</td>\n",
              "    </tr>\n",
              "    <tr>\n",
              "      <th>2</th>\n",
              "      <td>0.0</td>\n",
              "      <td>0.0</td>\n",
              "      <td>0.0</td>\n",
              "      <td>1.0</td>\n",
              "      <td>0.0</td>\n",
              "      <td>0.0</td>\n",
              "      <td>0.0</td>\n",
              "      <td>0.0</td>\n",
              "      <td>0.0</td>\n",
              "      <td>0.0</td>\n",
              "    </tr>\n",
              "    <tr>\n",
              "      <th>3</th>\n",
              "      <td>0.0</td>\n",
              "      <td>0.0</td>\n",
              "      <td>0.0</td>\n",
              "      <td>0.0</td>\n",
              "      <td>0.0</td>\n",
              "      <td>0.0</td>\n",
              "      <td>0.0</td>\n",
              "      <td>1.0</td>\n",
              "      <td>0.0</td>\n",
              "      <td>0.0</td>\n",
              "    </tr>\n",
              "    <tr>\n",
              "      <th>4</th>\n",
              "      <td>0.0</td>\n",
              "      <td>1.0</td>\n",
              "      <td>0.0</td>\n",
              "      <td>0.0</td>\n",
              "      <td>0.0</td>\n",
              "      <td>0.0</td>\n",
              "      <td>0.0</td>\n",
              "      <td>0.0</td>\n",
              "      <td>0.0</td>\n",
              "      <td>0.0</td>\n",
              "    </tr>\n",
              "  </tbody>\n",
              "</table>\n",
              "</div>"
            ],
            "text/plain": [
              "   astro-ph  cond-mat   cs  eess  hep-ph  hep-th  math  q-bio  quant-ph  stat\n",
              "0       0.0       0.0  0.0   0.0     0.0     0.0   0.0    0.0       0.0   1.0\n",
              "1       0.0       0.0  0.0   0.0     1.0     0.0   0.0    0.0       0.0   0.0\n",
              "2       0.0       0.0  0.0   1.0     0.0     0.0   0.0    0.0       0.0   0.0\n",
              "3       0.0       0.0  0.0   0.0     0.0     0.0   0.0    1.0       0.0   0.0\n",
              "4       0.0       1.0  0.0   0.0     0.0     0.0   0.0    0.0       0.0   0.0"
            ]
          },
          "metadata": {
            "tags": []
          },
          "execution_count": 27
        }
      ]
    },
    {
      "cell_type": "code",
      "metadata": {
        "id": "zqlaYftNNNv7",
        "colab_type": "code",
        "colab": {}
      },
      "source": [
        "submission2 = submission2[['astro-ph','cond-mat','cs','eess','hep-ph','hep-th','math','q-bio','quant-ph','stat']].astype(\"uint8\")"
      ],
      "execution_count": null,
      "outputs": []
    },
    {
      "cell_type": "code",
      "metadata": {
        "id": "krW7ewS_N0kM",
        "colab_type": "code",
        "colab": {}
      },
      "source": [
        "result = pd.concat([test_df, submission2], axis=1)"
      ],
      "execution_count": null,
      "outputs": []
    },
    {
      "cell_type": "code",
      "metadata": {
        "id": "Rl7SpymU6zPx",
        "colab_type": "code",
        "colab": {}
      },
      "source": [
        "result.drop(\"category\", axis = 1, inplace=True)"
      ],
      "execution_count": null,
      "outputs": []
    },
    {
      "cell_type": "code",
      "metadata": {
        "id": "urUY0ERzOqEX",
        "colab_type": "code",
        "colab": {
          "base_uri": "https://localhost:8080/",
          "height": 202
        },
        "outputId": "c08aa146-1ddf-40b7-a356-b7ca2b05d592"
      },
      "source": [
        "result.head()"
      ],
      "execution_count": null,
      "outputs": [
        {
          "output_type": "execute_result",
          "data": {
            "text/html": [
              "<div>\n",
              "<style scoped>\n",
              "    .dataframe tbody tr th:only-of-type {\n",
              "        vertical-align: middle;\n",
              "    }\n",
              "\n",
              "    .dataframe tbody tr th {\n",
              "        vertical-align: top;\n",
              "    }\n",
              "\n",
              "    .dataframe thead th {\n",
              "        text-align: right;\n",
              "    }\n",
              "</style>\n",
              "<table border=\"1\" class=\"dataframe\">\n",
              "  <thead>\n",
              "    <tr style=\"text-align: right;\">\n",
              "      <th></th>\n",
              "      <th>id</th>\n",
              "      <th>title</th>\n",
              "      <th>abstract</th>\n",
              "      <th>astro-ph</th>\n",
              "      <th>cond-mat</th>\n",
              "      <th>cs</th>\n",
              "      <th>eess</th>\n",
              "      <th>hep-ph</th>\n",
              "      <th>hep-th</th>\n",
              "      <th>math</th>\n",
              "      <th>q-bio</th>\n",
              "      <th>quant-ph</th>\n",
              "      <th>stat</th>\n",
              "    </tr>\n",
              "  </thead>\n",
              "  <tbody>\n",
              "    <tr>\n",
              "      <th>0</th>\n",
              "      <td>2004.12573</td>\n",
              "      <td>Bayesian Learning of Probabilistic Dipole Inve...</td>\n",
              "      <td>A learning-based posterior distribution esti...</td>\n",
              "      <td>0</td>\n",
              "      <td>0</td>\n",
              "      <td>0</td>\n",
              "      <td>0</td>\n",
              "      <td>0</td>\n",
              "      <td>0</td>\n",
              "      <td>0</td>\n",
              "      <td>0</td>\n",
              "      <td>0</td>\n",
              "      <td>1</td>\n",
              "    </tr>\n",
              "    <tr>\n",
              "      <th>1</th>\n",
              "      <td>1908.01621</td>\n",
              "      <td>Extending parton branching TMDs to small $x$</td>\n",
              "      <td>We explore the possibility to include small-...</td>\n",
              "      <td>0</td>\n",
              "      <td>0</td>\n",
              "      <td>0</td>\n",
              "      <td>0</td>\n",
              "      <td>1</td>\n",
              "      <td>0</td>\n",
              "      <td>0</td>\n",
              "      <td>0</td>\n",
              "      <td>0</td>\n",
              "      <td>0</td>\n",
              "    </tr>\n",
              "    <tr>\n",
              "      <th>2</th>\n",
              "      <td>1906.10356</td>\n",
              "      <td>Millimeter-Wave Path Loss at 73 GHz in Indoor ...</td>\n",
              "      <td>In this paper, two large-scale fading path l...</td>\n",
              "      <td>0</td>\n",
              "      <td>0</td>\n",
              "      <td>0</td>\n",
              "      <td>1</td>\n",
              "      <td>0</td>\n",
              "      <td>0</td>\n",
              "      <td>0</td>\n",
              "      <td>0</td>\n",
              "      <td>0</td>\n",
              "      <td>0</td>\n",
              "    </tr>\n",
              "    <tr>\n",
              "      <th>3</th>\n",
              "      <td>1905.10272</td>\n",
              "      <td>Exploring Evolving Plants as Interacting Parti...</td>\n",
              "      <td>We model evolution of plants in a world, mad...</td>\n",
              "      <td>0</td>\n",
              "      <td>0</td>\n",
              "      <td>0</td>\n",
              "      <td>0</td>\n",
              "      <td>0</td>\n",
              "      <td>0</td>\n",
              "      <td>0</td>\n",
              "      <td>1</td>\n",
              "      <td>0</td>\n",
              "      <td>0</td>\n",
              "    </tr>\n",
              "    <tr>\n",
              "      <th>4</th>\n",
              "      <td>1910.01033</td>\n",
              "      <td>Dynamic emergence of fragmenting, exploding ca...</td>\n",
              "      <td>Experimental results from irradiated-carbon ...</td>\n",
              "      <td>0</td>\n",
              "      <td>1</td>\n",
              "      <td>0</td>\n",
              "      <td>0</td>\n",
              "      <td>0</td>\n",
              "      <td>0</td>\n",
              "      <td>0</td>\n",
              "      <td>0</td>\n",
              "      <td>0</td>\n",
              "      <td>0</td>\n",
              "    </tr>\n",
              "  </tbody>\n",
              "</table>\n",
              "</div>"
            ],
            "text/plain": [
              "           id  ... stat\n",
              "0  2004.12573  ...    1\n",
              "1  1908.01621  ...    0\n",
              "2  1906.10356  ...    0\n",
              "3  1905.10272  ...    0\n",
              "4  1910.01033  ...    0\n",
              "\n",
              "[5 rows x 13 columns]"
            ]
          },
          "metadata": {
            "tags": []
          },
          "execution_count": 31
        }
      ]
    },
    {
      "cell_type": "code",
      "metadata": {
        "id": "AnWgEfCf9SQz",
        "colab_type": "code",
        "colab": {}
      },
      "source": [
        "result.to_csv('result.csv', index = False)"
      ],
      "execution_count": null,
      "outputs": []
    },
    {
      "cell_type": "code",
      "metadata": {
        "id": "kMUk7qGz7iQS",
        "colab_type": "code",
        "colab": {
          "base_uri": "https://localhost:8080/",
          "height": 202
        },
        "outputId": "0595006f-2b70-45cf-8357-a45b292fe705"
      },
      "source": [
        "dummy_variable_2 = pd.get_dummies(test_df[\"category\"])\n",
        "test_df = pd.concat([test_df, dummy_variable_2], axis=1)\n",
        "test_df.head()"
      ],
      "execution_count": null,
      "outputs": [
        {
          "output_type": "execute_result",
          "data": {
            "text/html": [
              "<div>\n",
              "<style scoped>\n",
              "    .dataframe tbody tr th:only-of-type {\n",
              "        vertical-align: middle;\n",
              "    }\n",
              "\n",
              "    .dataframe tbody tr th {\n",
              "        vertical-align: top;\n",
              "    }\n",
              "\n",
              "    .dataframe thead th {\n",
              "        text-align: right;\n",
              "    }\n",
              "</style>\n",
              "<table border=\"1\" class=\"dataframe\">\n",
              "  <thead>\n",
              "    <tr style=\"text-align: right;\">\n",
              "      <th></th>\n",
              "      <th>id</th>\n",
              "      <th>title</th>\n",
              "      <th>abstract</th>\n",
              "      <th>category</th>\n",
              "      <th>astro-ph</th>\n",
              "      <th>cond-mat</th>\n",
              "      <th>cs</th>\n",
              "      <th>eess</th>\n",
              "      <th>hep-ph</th>\n",
              "      <th>hep-th</th>\n",
              "      <th>math</th>\n",
              "      <th>q-bio</th>\n",
              "      <th>quant-ph</th>\n",
              "      <th>stat</th>\n",
              "    </tr>\n",
              "  </thead>\n",
              "  <tbody>\n",
              "    <tr>\n",
              "      <th>0</th>\n",
              "      <td>2004.12573</td>\n",
              "      <td>Bayesian Learning of Probabilistic Dipole Inve...</td>\n",
              "      <td>A learning-based posterior distribution esti...</td>\n",
              "      <td>eess</td>\n",
              "      <td>0</td>\n",
              "      <td>0</td>\n",
              "      <td>0</td>\n",
              "      <td>1</td>\n",
              "      <td>0</td>\n",
              "      <td>0</td>\n",
              "      <td>0</td>\n",
              "      <td>0</td>\n",
              "      <td>0</td>\n",
              "      <td>0</td>\n",
              "    </tr>\n",
              "    <tr>\n",
              "      <th>1</th>\n",
              "      <td>1908.01621</td>\n",
              "      <td>Extending parton branching TMDs to small $x$</td>\n",
              "      <td>We explore the possibility to include small-...</td>\n",
              "      <td>hep-ph</td>\n",
              "      <td>0</td>\n",
              "      <td>0</td>\n",
              "      <td>0</td>\n",
              "      <td>0</td>\n",
              "      <td>1</td>\n",
              "      <td>0</td>\n",
              "      <td>0</td>\n",
              "      <td>0</td>\n",
              "      <td>0</td>\n",
              "      <td>0</td>\n",
              "    </tr>\n",
              "    <tr>\n",
              "      <th>2</th>\n",
              "      <td>1906.10356</td>\n",
              "      <td>Millimeter-Wave Path Loss at 73 GHz in Indoor ...</td>\n",
              "      <td>In this paper, two large-scale fading path l...</td>\n",
              "      <td>eess</td>\n",
              "      <td>0</td>\n",
              "      <td>0</td>\n",
              "      <td>0</td>\n",
              "      <td>1</td>\n",
              "      <td>0</td>\n",
              "      <td>0</td>\n",
              "      <td>0</td>\n",
              "      <td>0</td>\n",
              "      <td>0</td>\n",
              "      <td>0</td>\n",
              "    </tr>\n",
              "    <tr>\n",
              "      <th>3</th>\n",
              "      <td>1905.10272</td>\n",
              "      <td>Exploring Evolving Plants as Interacting Parti...</td>\n",
              "      <td>We model evolution of plants in a world, mad...</td>\n",
              "      <td>q-bio</td>\n",
              "      <td>0</td>\n",
              "      <td>0</td>\n",
              "      <td>0</td>\n",
              "      <td>0</td>\n",
              "      <td>0</td>\n",
              "      <td>0</td>\n",
              "      <td>0</td>\n",
              "      <td>1</td>\n",
              "      <td>0</td>\n",
              "      <td>0</td>\n",
              "    </tr>\n",
              "    <tr>\n",
              "      <th>4</th>\n",
              "      <td>1910.01033</td>\n",
              "      <td>Dynamic emergence of fragmenting, exploding ca...</td>\n",
              "      <td>Experimental results from irradiated-carbon ...</td>\n",
              "      <td>cond-mat</td>\n",
              "      <td>0</td>\n",
              "      <td>1</td>\n",
              "      <td>0</td>\n",
              "      <td>0</td>\n",
              "      <td>0</td>\n",
              "      <td>0</td>\n",
              "      <td>0</td>\n",
              "      <td>0</td>\n",
              "      <td>0</td>\n",
              "      <td>0</td>\n",
              "    </tr>\n",
              "  </tbody>\n",
              "</table>\n",
              "</div>"
            ],
            "text/plain": [
              "           id  ... stat\n",
              "0  2004.12573  ...    0\n",
              "1  1908.01621  ...    0\n",
              "2  1906.10356  ...    0\n",
              "3  1905.10272  ...    0\n",
              "4  1910.01033  ...    0\n",
              "\n",
              "[5 rows x 14 columns]"
            ]
          },
          "metadata": {
            "tags": []
          },
          "execution_count": 32
        }
      ]
    },
    {
      "cell_type": "code",
      "metadata": {
        "id": "PCHG1QdZ0ZC7",
        "colab_type": "code",
        "colab": {
          "base_uri": "https://localhost:8080/",
          "height": 277
        },
        "outputId": "ea476a8a-a374-413e-bad0-65170c5ccba8"
      },
      "source": [
        "compare = [(test_df['astro-ph'].isin(result['astro-ph'])),\n",
        "           (test_df['cond-mat'].isin(result['cond-mat'])), \n",
        "           (test_df['cs'].isin(result['cs'])),\n",
        "           (test_df['eess'].isin(result['eess'])),\n",
        "           (test_df['hep-ph'].isin(result['hep-ph'])),\n",
        "           (test_df['hep-th'].isin(result['hep-th'])),\n",
        "           (test_df['math'].isin(result['math'])),\n",
        "           (test_df['q-bio'].isin(result['q-bio'])),\n",
        "           (test_df['quant-ph'].isin(result['quant-ph'])),\n",
        "           (test_df['stat'].isin(result['stat']))]\n",
        "print(type(compare))\n",
        "compare = pd.DataFrame(compare)\n",
        "compare = compare.T\n",
        "compare.head"
      ],
      "execution_count": null,
      "outputs": [
        {
          "output_type": "stream",
          "text": [
            "<class 'list'>\n"
          ],
          "name": "stdout"
        },
        {
          "output_type": "execute_result",
          "data": {
            "text/plain": [
              "<bound method NDFrame.head of      astro-ph  cond-mat    cs  eess  ...  math  q-bio  quant-ph  stat\n",
              "0        True      True  True  True  ...  True   True      True  True\n",
              "1        True      True  True  True  ...  True   True      True  True\n",
              "2        True      True  True  True  ...  True   True      True  True\n",
              "3        True      True  True  True  ...  True   True      True  True\n",
              "4        True      True  True  True  ...  True   True      True  True\n",
              "..        ...       ...   ...   ...  ...   ...    ...       ...   ...\n",
              "995      True      True  True  True  ...  True   True      True  True\n",
              "996      True      True  True  True  ...  True   True      True  True\n",
              "997      True      True  True  True  ...  True   True      True  True\n",
              "998      True      True  True  True  ...  True   True      True  True\n",
              "999      True      True  True  True  ...  True   True      True  True\n",
              "\n",
              "[1000 rows x 10 columns]>"
            ]
          },
          "metadata": {
            "tags": []
          },
          "execution_count": 34
        }
      ]
    },
    {
      "cell_type": "code",
      "metadata": {
        "id": "ny15wZ3JzqOR",
        "colab_type": "code",
        "colab": {}
      },
      "source": [
        "compare.to_csv('compare.csv', index = False)"
      ],
      "execution_count": null,
      "outputs": []
    },
    {
      "cell_type": "code",
      "metadata": {
        "id": "5D__n4_C9vkK",
        "colab_type": "code",
        "colab": {}
      },
      "source": [
        ""
      ],
      "execution_count": null,
      "outputs": []
    }
  ]
}